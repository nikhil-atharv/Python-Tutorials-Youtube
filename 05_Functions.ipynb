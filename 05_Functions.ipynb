{
 "cells": [
  {
   "cell_type": "code",
   "execution_count": 1,
   "id": "36b30cf3",
   "metadata": {},
   "outputs": [],
   "source": [
    "def sum(a, b):\n",
    "    addition = a + b\n",
    "    return addition"
   ]
  },
  {
   "cell_type": "code",
   "execution_count": 2,
   "id": "3cd0305b",
   "metadata": {},
   "outputs": [
    {
     "data": {
      "text/plain": [
       "19"
      ]
     },
     "execution_count": 2,
     "metadata": {},
     "output_type": "execute_result"
    }
   ],
   "source": [
    "sum(9, 10)"
   ]
  },
  {
   "cell_type": "code",
   "execution_count": 10,
   "id": "c63449b7",
   "metadata": {},
   "outputs": [],
   "source": [
    "def stats(a, b, output):\n",
    "\n",
    "    addition = a + b\n",
    "\n",
    "    product = a * b\n",
    "\n",
    "    if output == 'Product':\n",
    "\n",
    "        return product\n",
    "    \n",
    "    elif output == 'Addition':\n",
    "\n",
    "        return addition"
   ]
  },
  {
   "cell_type": "code",
   "execution_count": 11,
   "id": "2fc6a04b",
   "metadata": {},
   "outputs": [
    {
     "data": {
      "text/plain": [
       "16"
      ]
     },
     "execution_count": 11,
     "metadata": {},
     "output_type": "execute_result"
    }
   ],
   "source": [
    "stats(4, 12, 'Addition')"
   ]
  },
  {
   "cell_type": "code",
   "execution_count": 14,
   "id": "68701acb",
   "metadata": {},
   "outputs": [],
   "source": [
    "def greet(name, greet = 'Hello! '):\n",
    "\n",
    "    return greet + name"
   ]
  },
  {
   "cell_type": "code",
   "execution_count": 15,
   "id": "89f97bbd",
   "metadata": {},
   "outputs": [
    {
     "data": {
      "text/plain": [
       "'Hello! Harish'"
      ]
     },
     "execution_count": 15,
     "metadata": {},
     "output_type": "execute_result"
    }
   ],
   "source": [
    "greet('Harish')"
   ]
  }
 ],
 "metadata": {
  "kernelspec": {
   "display_name": "nikhil_geospatial",
   "language": "python",
   "name": "python3"
  },
  "language_info": {
   "codemirror_mode": {
    "name": "ipython",
    "version": 3
   },
   "file_extension": ".py",
   "mimetype": "text/x-python",
   "name": "python",
   "nbconvert_exporter": "python",
   "pygments_lexer": "ipython3",
   "version": "3.13.5"
  }
 },
 "nbformat": 4,
 "nbformat_minor": 5
}
